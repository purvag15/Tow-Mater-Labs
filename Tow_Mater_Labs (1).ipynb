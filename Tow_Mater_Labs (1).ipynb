{
  "nbformat": 4,
  "nbformat_minor": 0,
  "metadata": {
    "colab": {
      "name": "Tow_Mater_Labs.ipynb",
      "provenance": [],
      "collapsed_sections": []
    },
    "kernelspec": {
      "display_name": "Python 3",
      "name": "python3"
    }
  },
  "cells": [
    {
      "cell_type": "code",
      "metadata": {
        "id": "lfAJS3TkN6vD"
      },
      "source": [
        "import pandas as pd\n",
        "import numpy as np\n",
        "from sklearn.preprocessing import LabelEncoder\n",
        "labelencoder = LabelEncoder()\n",
        "from sklearn.preprocessing import OneHotEncoder\n",
        "import time\n",
        "import datetime\n",
        "import collections"
      ],
      "execution_count": 1,
      "outputs": []
    },
    {
      "cell_type": "code",
      "metadata": {
        "id": "VhFtAg_ek6hi"
      },
      "source": [
        "# -------------------------------------------------------------RESAMPLING OF TRAINING DATA-----------------------------------------------------\n",
        "# ----------------------------------------------------------(UNBALANCED TRAINING SET)-----------------------------------------------------------\n",
        "# df = pd.read_csv(r\"train.csv\")\n",
        "# # df = df[:10]\n",
        "# for index, row in df.iterrows():\n",
        "#     if row['accepted']==1:\n",
        "#       df = df.append(row)\n",
        "#       df = df.append(row)\n",
        "# df.to_csv('trainmore.csv', index=False, encoding='utf-8')\n",
        "# # df"
      ],
      "execution_count": 2,
      "outputs": []
    },
    {
      "cell_type": "code",
      "metadata": {
        "id": "GbloHyCxCY7u"
      },
      "source": [
        ""
      ],
      "execution_count": 2,
      "outputs": []
    },
    {
      "cell_type": "code",
      "metadata": {
        "id": "iIC63QkgOFpX"
      },
      "source": [
        "# -------------------------------------------------------------IMPORTING TRAINING DATA----------------------------------------------------------\n",
        "df = pd.read_csv(r\"trainmore.csv\")\n",
        "df.dropna()\n",
        "df.set_index('id', inplace=True)\n",
        "# df.reset_index(inplace=True)\n",
        "df = df.drop(columns=['blood_group'])\n",
        "df = df.drop(columns=['mother_age'])\n",
        "df = df.drop(columns=['father_age'])\n",
        "# df = df.drop(columns=['Age'])\n",
        "df = df[:220000]\n",
        "\n",
        "# -------------------------------------------------------------IMPORTING TEST DATA----------------------------------------------------------\n",
        "\n",
        "dftest = pd.read_csv(r\"test.csv\")\n",
        "dftest.dropna()\n",
        "dftest.set_index('id', inplace=True)\n",
        "dftest = dftest.drop(columns=['blood_group'])\n",
        "dftest = dftest.drop(columns=['mother_age'])\n",
        "dftest = dftest.drop(columns=['father_age'])\n",
        "# df = df.drop(columns=['female'])\n",
        "# dftest = dftest.drop(columns=['Age'])"
      ],
      "execution_count": 3,
      "outputs": []
    },
    {
      "cell_type": "code",
      "metadata": {
        "id": "GcezBDpnTTIC",
        "outputId": "f7ea5eb7-1fbc-4d48-f7f2-f7e03c99a058",
        "colab": {
          "base_uri": "https://localhost:8080/",
          "height": 466
        }
      },
      "source": [
        "df"
      ],
      "execution_count": 4,
      "outputs": [
        {
          "output_type": "execute_result",
          "data": {
            "text/html": [
              "<div>\n",
              "<style scoped>\n",
              "    .dataframe tbody tr th:only-of-type {\n",
              "        vertical-align: middle;\n",
              "    }\n",
              "\n",
              "    .dataframe tbody tr th {\n",
              "        vertical-align: top;\n",
              "    }\n",
              "\n",
              "    .dataframe thead th {\n",
              "        text-align: right;\n",
              "    }\n",
              "</style>\n",
              "<table border=\"1\" class=\"dataframe\">\n",
              "  <thead>\n",
              "    <tr style=\"text-align: right;\">\n",
              "      <th></th>\n",
              "      <th>Gender</th>\n",
              "      <th>Age</th>\n",
              "      <th>Driving_License</th>\n",
              "      <th>Region_Code</th>\n",
              "      <th>Previously_Insured</th>\n",
              "      <th>Vehicle_Age</th>\n",
              "      <th>Vehicle_Damage</th>\n",
              "      <th>Annual_Premium</th>\n",
              "      <th>Policy_Sales_Channel</th>\n",
              "      <th>Vintage</th>\n",
              "      <th>accepted</th>\n",
              "    </tr>\n",
              "    <tr>\n",
              "      <th>id</th>\n",
              "      <th></th>\n",
              "      <th></th>\n",
              "      <th></th>\n",
              "      <th></th>\n",
              "      <th></th>\n",
              "      <th></th>\n",
              "      <th></th>\n",
              "      <th></th>\n",
              "      <th></th>\n",
              "      <th></th>\n",
              "      <th></th>\n",
              "    </tr>\n",
              "  </thead>\n",
              "  <tbody>\n",
              "    <tr>\n",
              "      <th>223723</th>\n",
              "      <td>Female</td>\n",
              "      <td>23</td>\n",
              "      <td>1</td>\n",
              "      <td>18.0</td>\n",
              "      <td>1</td>\n",
              "      <td>&lt; 1 Year</td>\n",
              "      <td>No</td>\n",
              "      <td>29223.0</td>\n",
              "      <td>152.0</td>\n",
              "      <td>89</td>\n",
              "      <td>0</td>\n",
              "    </tr>\n",
              "    <tr>\n",
              "      <th>102674</th>\n",
              "      <td>Male</td>\n",
              "      <td>44</td>\n",
              "      <td>1</td>\n",
              "      <td>23.0</td>\n",
              "      <td>0</td>\n",
              "      <td>1-2 Year</td>\n",
              "      <td>Yes</td>\n",
              "      <td>28501.0</td>\n",
              "      <td>26.0</td>\n",
              "      <td>111</td>\n",
              "      <td>1</td>\n",
              "    </tr>\n",
              "    <tr>\n",
              "      <th>15567</th>\n",
              "      <td>Male</td>\n",
              "      <td>23</td>\n",
              "      <td>1</td>\n",
              "      <td>41.0</td>\n",
              "      <td>0</td>\n",
              "      <td>&lt; 1 Year</td>\n",
              "      <td>Yes</td>\n",
              "      <td>32590.0</td>\n",
              "      <td>152.0</td>\n",
              "      <td>71</td>\n",
              "      <td>0</td>\n",
              "    </tr>\n",
              "    <tr>\n",
              "      <th>222937</th>\n",
              "      <td>Male</td>\n",
              "      <td>78</td>\n",
              "      <td>1</td>\n",
              "      <td>15.0</td>\n",
              "      <td>1</td>\n",
              "      <td>1-2 Year</td>\n",
              "      <td>No</td>\n",
              "      <td>2630.0</td>\n",
              "      <td>14.0</td>\n",
              "      <td>245</td>\n",
              "      <td>0</td>\n",
              "    </tr>\n",
              "    <tr>\n",
              "      <th>32565</th>\n",
              "      <td>Female</td>\n",
              "      <td>25</td>\n",
              "      <td>1</td>\n",
              "      <td>44.0</td>\n",
              "      <td>1</td>\n",
              "      <td>&lt; 1 Year</td>\n",
              "      <td>No</td>\n",
              "      <td>31821.0</td>\n",
              "      <td>152.0</td>\n",
              "      <td>59</td>\n",
              "      <td>0</td>\n",
              "    </tr>\n",
              "    <tr>\n",
              "      <th>...</th>\n",
              "      <td>...</td>\n",
              "      <td>...</td>\n",
              "      <td>...</td>\n",
              "      <td>...</td>\n",
              "      <td>...</td>\n",
              "      <td>...</td>\n",
              "      <td>...</td>\n",
              "      <td>...</td>\n",
              "      <td>...</td>\n",
              "      <td>...</td>\n",
              "      <td>...</td>\n",
              "    </tr>\n",
              "    <tr>\n",
              "      <th>248180</th>\n",
              "      <td>Female</td>\n",
              "      <td>27</td>\n",
              "      <td>1</td>\n",
              "      <td>46.0</td>\n",
              "      <td>1</td>\n",
              "      <td>&lt; 1 Year</td>\n",
              "      <td>No</td>\n",
              "      <td>27537.0</td>\n",
              "      <td>152.0</td>\n",
              "      <td>14</td>\n",
              "      <td>0</td>\n",
              "    </tr>\n",
              "    <tr>\n",
              "      <th>394400</th>\n",
              "      <td>Female</td>\n",
              "      <td>21</td>\n",
              "      <td>1</td>\n",
              "      <td>41.0</td>\n",
              "      <td>1</td>\n",
              "      <td>1-2 Year</td>\n",
              "      <td>No</td>\n",
              "      <td>65475.0</td>\n",
              "      <td>124.0</td>\n",
              "      <td>36</td>\n",
              "      <td>0</td>\n",
              "    </tr>\n",
              "    <tr>\n",
              "      <th>376173</th>\n",
              "      <td>Male</td>\n",
              "      <td>28</td>\n",
              "      <td>1</td>\n",
              "      <td>12.0</td>\n",
              "      <td>1</td>\n",
              "      <td>&lt; 1 Year</td>\n",
              "      <td>No</td>\n",
              "      <td>32694.0</td>\n",
              "      <td>152.0</td>\n",
              "      <td>79</td>\n",
              "      <td>0</td>\n",
              "    </tr>\n",
              "    <tr>\n",
              "      <th>236008</th>\n",
              "      <td>Female</td>\n",
              "      <td>26</td>\n",
              "      <td>1</td>\n",
              "      <td>49.0</td>\n",
              "      <td>0</td>\n",
              "      <td>&lt; 1 Year</td>\n",
              "      <td>Yes</td>\n",
              "      <td>2630.0</td>\n",
              "      <td>152.0</td>\n",
              "      <td>191</td>\n",
              "      <td>0</td>\n",
              "    </tr>\n",
              "    <tr>\n",
              "      <th>405777</th>\n",
              "      <td>Male</td>\n",
              "      <td>59</td>\n",
              "      <td>1</td>\n",
              "      <td>35.0</td>\n",
              "      <td>0</td>\n",
              "      <td>1-2 Year</td>\n",
              "      <td>Yes</td>\n",
              "      <td>36920.0</td>\n",
              "      <td>124.0</td>\n",
              "      <td>188</td>\n",
              "      <td>0</td>\n",
              "    </tr>\n",
              "  </tbody>\n",
              "</table>\n",
              "<p>220000 rows × 11 columns</p>\n",
              "</div>"
            ],
            "text/plain": [
              "        Gender  Age  Driving_License  ...  Policy_Sales_Channel  Vintage accepted\n",
              "id                                    ...                                        \n",
              "223723  Female   23                1  ...                 152.0       89        0\n",
              "102674    Male   44                1  ...                  26.0      111        1\n",
              "15567     Male   23                1  ...                 152.0       71        0\n",
              "222937    Male   78                1  ...                  14.0      245        0\n",
              "32565   Female   25                1  ...                 152.0       59        0\n",
              "...        ...  ...              ...  ...                   ...      ...      ...\n",
              "248180  Female   27                1  ...                 152.0       14        0\n",
              "394400  Female   21                1  ...                 124.0       36        0\n",
              "376173    Male   28                1  ...                 152.0       79        0\n",
              "236008  Female   26                1  ...                 152.0      191        0\n",
              "405777    Male   59                1  ...                 124.0      188        0\n",
              "\n",
              "[220000 rows x 11 columns]"
            ]
          },
          "metadata": {
            "tags": []
          },
          "execution_count": 4
        }
      ]
    },
    {
      "cell_type": "code",
      "metadata": {
        "id": "Tea3RJnVP9S1"
      },
      "source": [
        "# ----------------------------------------------------TRAIN DATA FEATURE PROCESSING---------------------------------------------\n",
        "# one_hot = pd.get_dummies(df['blood_group'])\n",
        "# df = df.drop('blood_group',axis = 1)\n",
        "# df = df.join(one_hot)\n",
        "\n",
        "one_hot = pd.get_dummies(df['Gender'])\n",
        "df = df.drop('Gender',axis = 1)\n",
        "df = df.join(one_hot)\n",
        "\n",
        "one_hot = pd.get_dummies(df['Vehicle_Age'])\n",
        "df = df.drop('Vehicle_Age',axis = 1)\n",
        "df = df.join(one_hot)\n",
        "\n",
        "one_hot = pd.get_dummies(df['Vehicle_Damage'])\n",
        "df = df.drop('Vehicle_Damage',axis = 1)\n",
        "df = df.join(one_hot)\n",
        "\n",
        "df['Age']=((df['Age']-df['Age'].min())/(df['Age'].max()-df['Age'].min()))\n",
        "df['Region_Code']=((df['Region_Code']-df['Region_Code'].min())/(df['Region_Code'].max()-df['Region_Code'].min()))\n",
        "df['Annual_Premium']=((df['Annual_Premium']-df['Annual_Premium'].min())/(df['Annual_Premium'].max()-df['Annual_Premium'].min()))*100\n",
        "df['Policy_Sales_Channel']=((df['Policy_Sales_Channel']-df['Policy_Sales_Channel'].min())/(df['Policy_Sales_Channel'].max()-df['Policy_Sales_Channel'].min()))*100\n",
        "df['Vintage']=((df['Vintage']-df['Vintage'].min())/(df['Vintage'].max()-df['Vintage'].min()))\n",
        "# df['mother_age']=((df['mother_age']-df['mother_age'].min())/(df['mother_age'].max()-df['mother_age'].min()))/1000\n",
        "# df['father_age']=((df['father_age']-df['father_age'].min())/(df['father_age'].max()-df['father_age'].min()))/1000\n",
        "\n",
        "# ----------------------------------------------------TEST DATA FEATURE PROCESSING---------------------------------------------\n",
        "# one_hot = pd.get_dummies(dftest['blood_group'])\n",
        "# dftest = dftest.drop('blood_group',axis = 1)\n",
        "# dftest = dftest.join(one_hot)\n",
        "\n",
        "one_hot = pd.get_dummies(dftest['Gender'])\n",
        "dftest = dftest.drop('Gender',axis = 1)\n",
        "dftest = dftest.join(one_hot)\n",
        "\n",
        "one_hot = pd.get_dummies(dftest['Vehicle_Age'])\n",
        "dftest = dftest.drop('Vehicle_Age',axis = 1)\n",
        "dftest = dftest.join(one_hot)\n",
        "\n",
        "one_hot = pd.get_dummies(dftest['Vehicle_Damage'])\n",
        "dftest = dftest.drop('Vehicle_Damage',axis = 1)\n",
        "dftest = dftest.join(one_hot)\n",
        "\n",
        "\n",
        "dftest['Age']=((dftest['Age']-dftest['Age'].min())/(dftest['Age'].max()-dftest['Age'].min()))\n",
        "dftest['Region_Code']=((dftest['Region_Code']-dftest['Region_Code'].min())/(dftest['Region_Code'].max()-dftest['Region_Code'].min()))\n",
        "dftest['Annual_Premium']=((dftest['Annual_Premium']-dftest['Annual_Premium'].min())/(dftest['Annual_Premium'].max()-dftest['Annual_Premium'].min()))*100\n",
        "dftest['Policy_Sales_Channel']=((dftest['Policy_Sales_Channel']-dftest['Policy_Sales_Channel'].min())/(dftest['Policy_Sales_Channel'].max()-dftest['Policy_Sales_Channel'].min()))*100\n",
        "dftest['Vintage']=((dftest['Vintage']-dftest['Vintage'].min())/(dftest['Vintage'].max()-dftest['Vintage'].min()))\n",
        "# dftest['mother_age']=((dftest['mother_age']-dftest['mother_age'].min())/(dftest['mother_age'].max()-dftest['mother_age'].min()))/1000\n",
        "# dftest['father_age']=((dftest['father_age']-dftest['father_age'].min())/(dftest['father_age'].max()-dftest['father_age'].min()))/1000\n",
        "\n",
        "df = df.drop(columns=['Female'], axis=1)\n",
        "dftest = dftest.drop(columns=['Female'], axis=1)\n",
        "df = df.drop(columns=['No'], axis=1)\n",
        "dftest = dftest.drop(columns=['No'], axis=1)\n",
        "df = df.drop(columns=['> 2 Years'], axis=1)\n",
        "dftest = dftest.drop(columns=['> 2 Years'], axis=1)"
      ],
      "execution_count": 5,
      "outputs": []
    },
    {
      "cell_type": "code",
      "metadata": {
        "id": "3IROfJolP98E",
        "outputId": "d288e89a-2d9c-45fd-c255-af1beedd34d9",
        "colab": {
          "base_uri": "https://localhost:8080/",
          "height": 463
        }
      },
      "source": [
        "df"
      ],
      "execution_count": 6,
      "outputs": [
        {
          "output_type": "execute_result",
          "data": {
            "text/html": [
              "<div>\n",
              "<style scoped>\n",
              "    .dataframe tbody tr th:only-of-type {\n",
              "        vertical-align: middle;\n",
              "    }\n",
              "\n",
              "    .dataframe tbody tr th {\n",
              "        vertical-align: top;\n",
              "    }\n",
              "\n",
              "    .dataframe thead th {\n",
              "        text-align: right;\n",
              "    }\n",
              "</style>\n",
              "<table border=\"1\" class=\"dataframe\">\n",
              "  <thead>\n",
              "    <tr style=\"text-align: right;\">\n",
              "      <th></th>\n",
              "      <th>Age</th>\n",
              "      <th>Driving_License</th>\n",
              "      <th>Region_Code</th>\n",
              "      <th>Previously_Insured</th>\n",
              "      <th>Annual_Premium</th>\n",
              "      <th>Policy_Sales_Channel</th>\n",
              "      <th>Vintage</th>\n",
              "      <th>accepted</th>\n",
              "      <th>Male</th>\n",
              "      <th>1-2 Year</th>\n",
              "      <th>&lt; 1 Year</th>\n",
              "      <th>Yes</th>\n",
              "    </tr>\n",
              "    <tr>\n",
              "      <th>id</th>\n",
              "      <th></th>\n",
              "      <th></th>\n",
              "      <th></th>\n",
              "      <th></th>\n",
              "      <th></th>\n",
              "      <th></th>\n",
              "      <th></th>\n",
              "      <th></th>\n",
              "      <th></th>\n",
              "      <th></th>\n",
              "      <th></th>\n",
              "      <th></th>\n",
              "    </tr>\n",
              "  </thead>\n",
              "  <tbody>\n",
              "    <tr>\n",
              "      <th>223723</th>\n",
              "      <td>0.046154</td>\n",
              "      <td>1</td>\n",
              "      <td>0.346154</td>\n",
              "      <td>1</td>\n",
              "      <td>4.947213</td>\n",
              "      <td>93.209877</td>\n",
              "      <td>0.273356</td>\n",
              "      <td>0</td>\n",
              "      <td>0</td>\n",
              "      <td>0</td>\n",
              "      <td>1</td>\n",
              "      <td>0</td>\n",
              "    </tr>\n",
              "    <tr>\n",
              "      <th>102674</th>\n",
              "      <td>0.369231</td>\n",
              "      <td>1</td>\n",
              "      <td>0.442308</td>\n",
              "      <td>0</td>\n",
              "      <td>4.812896</td>\n",
              "      <td>15.432099</td>\n",
              "      <td>0.349481</td>\n",
              "      <td>1</td>\n",
              "      <td>1</td>\n",
              "      <td>1</td>\n",
              "      <td>0</td>\n",
              "      <td>1</td>\n",
              "    </tr>\n",
              "    <tr>\n",
              "      <th>15567</th>\n",
              "      <td>0.046154</td>\n",
              "      <td>1</td>\n",
              "      <td>0.788462</td>\n",
              "      <td>0</td>\n",
              "      <td>5.573591</td>\n",
              "      <td>93.209877</td>\n",
              "      <td>0.211073</td>\n",
              "      <td>0</td>\n",
              "      <td>1</td>\n",
              "      <td>0</td>\n",
              "      <td>1</td>\n",
              "      <td>1</td>\n",
              "    </tr>\n",
              "    <tr>\n",
              "      <th>222937</th>\n",
              "      <td>0.892308</td>\n",
              "      <td>1</td>\n",
              "      <td>0.288462</td>\n",
              "      <td>1</td>\n",
              "      <td>0.000000</td>\n",
              "      <td>8.024691</td>\n",
              "      <td>0.813149</td>\n",
              "      <td>0</td>\n",
              "      <td>1</td>\n",
              "      <td>1</td>\n",
              "      <td>0</td>\n",
              "      <td>0</td>\n",
              "    </tr>\n",
              "    <tr>\n",
              "      <th>32565</th>\n",
              "      <td>0.076923</td>\n",
              "      <td>1</td>\n",
              "      <td>0.846154</td>\n",
              "      <td>1</td>\n",
              "      <td>5.430530</td>\n",
              "      <td>93.209877</td>\n",
              "      <td>0.169550</td>\n",
              "      <td>0</td>\n",
              "      <td>0</td>\n",
              "      <td>0</td>\n",
              "      <td>1</td>\n",
              "      <td>0</td>\n",
              "    </tr>\n",
              "    <tr>\n",
              "      <th>...</th>\n",
              "      <td>...</td>\n",
              "      <td>...</td>\n",
              "      <td>...</td>\n",
              "      <td>...</td>\n",
              "      <td>...</td>\n",
              "      <td>...</td>\n",
              "      <td>...</td>\n",
              "      <td>...</td>\n",
              "      <td>...</td>\n",
              "      <td>...</td>\n",
              "      <td>...</td>\n",
              "      <td>...</td>\n",
              "    </tr>\n",
              "    <tr>\n",
              "      <th>248180</th>\n",
              "      <td>0.107692</td>\n",
              "      <td>1</td>\n",
              "      <td>0.884615</td>\n",
              "      <td>1</td>\n",
              "      <td>4.633559</td>\n",
              "      <td>93.209877</td>\n",
              "      <td>0.013841</td>\n",
              "      <td>0</td>\n",
              "      <td>0</td>\n",
              "      <td>0</td>\n",
              "      <td>1</td>\n",
              "      <td>0</td>\n",
              "    </tr>\n",
              "    <tr>\n",
              "      <th>394400</th>\n",
              "      <td>0.015385</td>\n",
              "      <td>1</td>\n",
              "      <td>0.788462</td>\n",
              "      <td>1</td>\n",
              "      <td>11.691332</td>\n",
              "      <td>75.925926</td>\n",
              "      <td>0.089965</td>\n",
              "      <td>0</td>\n",
              "      <td>0</td>\n",
              "      <td>1</td>\n",
              "      <td>0</td>\n",
              "      <td>0</td>\n",
              "    </tr>\n",
              "    <tr>\n",
              "      <th>376173</th>\n",
              "      <td>0.123077</td>\n",
              "      <td>1</td>\n",
              "      <td>0.230769</td>\n",
              "      <td>1</td>\n",
              "      <td>5.592938</td>\n",
              "      <td>93.209877</td>\n",
              "      <td>0.238754</td>\n",
              "      <td>0</td>\n",
              "      <td>1</td>\n",
              "      <td>0</td>\n",
              "      <td>1</td>\n",
              "      <td>0</td>\n",
              "    </tr>\n",
              "    <tr>\n",
              "      <th>236008</th>\n",
              "      <td>0.092308</td>\n",
              "      <td>1</td>\n",
              "      <td>0.942308</td>\n",
              "      <td>0</td>\n",
              "      <td>0.000000</td>\n",
              "      <td>93.209877</td>\n",
              "      <td>0.626298</td>\n",
              "      <td>0</td>\n",
              "      <td>0</td>\n",
              "      <td>0</td>\n",
              "      <td>1</td>\n",
              "      <td>1</td>\n",
              "    </tr>\n",
              "    <tr>\n",
              "      <th>405777</th>\n",
              "      <td>0.600000</td>\n",
              "      <td>1</td>\n",
              "      <td>0.673077</td>\n",
              "      <td>0</td>\n",
              "      <td>6.379119</td>\n",
              "      <td>75.925926</td>\n",
              "      <td>0.615917</td>\n",
              "      <td>0</td>\n",
              "      <td>1</td>\n",
              "      <td>1</td>\n",
              "      <td>0</td>\n",
              "      <td>1</td>\n",
              "    </tr>\n",
              "  </tbody>\n",
              "</table>\n",
              "<p>220000 rows × 12 columns</p>\n",
              "</div>"
            ],
            "text/plain": [
              "             Age  Driving_License  Region_Code  ...  1-2 Year  < 1 Year  Yes\n",
              "id                                              ...                         \n",
              "223723  0.046154                1     0.346154  ...         0         1    0\n",
              "102674  0.369231                1     0.442308  ...         1         0    1\n",
              "15567   0.046154                1     0.788462  ...         0         1    1\n",
              "222937  0.892308                1     0.288462  ...         1         0    0\n",
              "32565   0.076923                1     0.846154  ...         0         1    0\n",
              "...          ...              ...          ...  ...       ...       ...  ...\n",
              "248180  0.107692                1     0.884615  ...         0         1    0\n",
              "394400  0.015385                1     0.788462  ...         1         0    0\n",
              "376173  0.123077                1     0.230769  ...         0         1    0\n",
              "236008  0.092308                1     0.942308  ...         0         1    1\n",
              "405777  0.600000                1     0.673077  ...         1         0    1\n",
              "\n",
              "[220000 rows x 12 columns]"
            ]
          },
          "metadata": {
            "tags": []
          },
          "execution_count": 6
        }
      ]
    },
    {
      "cell_type": "code",
      "metadata": {
        "id": "dDpPqasHR05u"
      },
      "source": [
        ""
      ],
      "execution_count": 6,
      "outputs": []
    },
    {
      "cell_type": "code",
      "metadata": {
        "id": "iVFV5ReIaEYD",
        "outputId": "f785334e-a982-4e7b-e07c-88b5859716e0",
        "colab": {
          "base_uri": "https://localhost:8080/"
        }
      },
      "source": [
        "# -------------------------------------------------KNN------------------------------------------------------\n",
        "from sklearn.model_selection import train_test_split\n",
        "# from sklearn import svm\n",
        "from sklearn.linear_model import LinearRegression\n",
        "from sklearn.metrics import mean_squared_error, r2_score\n",
        "from sklearn.dummy import DummyRegressor\n",
        "\n",
        "from sklearn.neighbors import KNeighborsClassifier\n",
        "X = df.drop('accepted', axis=1)\n",
        "y = df['accepted']\n",
        "# X_train, X_test, y_train, y_test = train_test_split(X, y, test_size=0.2, random_state=1)\n",
        "X_train, X_test, y_train, y_test = train_test_split(X, y, random_state=1)\n",
        "\n",
        "neigh = KNeighborsClassifier()\n",
        "neigh.fit(X, y)\n",
        "# print(neigh.predict([[1.1]]))\n",
        "y_predict = neigh.predict(X_test)\n",
        "from sklearn.metrics import f1_score\n",
        "f1_score(y_test, y_predict, average='macro')"
      ],
      "execution_count": 7,
      "outputs": [
        {
          "output_type": "execute_result",
          "data": {
            "text/plain": [
              "0.6987834476435694"
            ]
          },
          "metadata": {
            "tags": []
          },
          "execution_count": 7
        }
      ]
    },
    {
      "cell_type": "code",
      "metadata": {
        "id": "uT_-qniisNfQ",
        "outputId": "91d3e8e5-7a33-4537-ef6a-f4a83a5564e9",
        "colab": {
          "base_uri": "https://localhost:8080/",
          "height": 279
        }
      },
      "source": [
        "import matplotlib.pyplot as plt  # doctest: +SKIP\n",
        "from sklearn import datasets, metrics, model_selection;\n",
        "metrics.plot_roc_curve(neigh, X_test, y_test)  # doctest: +SKIP\n",
        "plt.show() # KNN"
      ],
      "execution_count": 10,
      "outputs": [
        {
          "output_type": "display_data",
          "data": {
            "image/png": "[encoded data removed]",
            "text/plain": [
              "<Figure size 432x288 with 1 Axes>"
            ]
          },
          "metadata": {
            "tags": [],
            "needs_background": "light"
          }
        }
      ]
    },
    {
      "cell_type": "code",
      "metadata": {
        "id": "Ldwt69b3eSRN"
      },
      "source": [
        "# -----------------------------------------------KNN SAVE SAMPLE-------------------------------------------\n",
        "X_train = df.drop('accepted', axis=1)\n",
        "y_train = df['accepted']\n",
        "X_test = dftest\n",
        "neigh = KNeighborsClassifier(n_neighbors=3)\n",
        "neigh.fit(X_train, y_train)\n",
        "y_predict = neigh.predict(X_test)\n",
        "\n",
        "from numpy import asarray\n",
        "from numpy import savetxt\n",
        "savetxt('knn3new.csv', y_predict.astype(int), fmt='%i', delimiter=',')\n",
        "# dftest.shape\n",
        "# y_predict.size"
      ],
      "execution_count": null,
      "outputs": []
    },
    {
      "cell_type": "code",
      "metadata": {
        "id": "8Q8bI6wb6xLE",
        "outputId": "e7d3be78-a5b9-474f-f5f6-7189aca97dac",
        "colab": {
          "base_uri": "https://localhost:8080/"
        }
      },
      "source": [
        "# -------------------------------------------------NAIVE BAYES------------------------------------------------\n",
        "from sklearn.model_selection import train_test_split\n",
        "from sklearn.naive_bayes import GaussianNB\n",
        "\n",
        "X = df.drop('accepted', axis=1)\n",
        "y = df['accepted']\n",
        "# X_train, X_test, y_train, y_test = train_test_split(X, y, test_size=0.2, random_state=1)\n",
        "X_train, X_test, y_train, y_test = train_test_split(X, y, random_state=1)\n",
        "\n",
        "gnb = GaussianNB()\n",
        "y_pred = gnb.fit(X_train, y_train).predict(X_test)\n",
        "\n",
        "from sklearn.metrics import f1_score\n",
        "f1_score(y_test, y_pred, average='macro')"
      ],
      "execution_count": 11,
      "outputs": [
        {
          "output_type": "execute_result",
          "data": {
            "text/plain": [
              "0.6198895280073038"
            ]
          },
          "metadata": {
            "tags": []
          },
          "execution_count": 11
        }
      ]
    },
    {
      "cell_type": "code",
      "metadata": {
        "id": "33Yf8rA-qv4W",
        "outputId": "91c584f8-d739-472d-913e-ebb7cda10bd0",
        "colab": {
          "base_uri": "https://localhost:8080/",
          "height": 279
        }
      },
      "source": [
        "import matplotlib.pyplot as plt  # doctest: +SKIP\n",
        "from sklearn import datasets, metrics, model_selection;\n",
        "metrics.plot_roc_curve(gnb, X_test, y_test)  # doctest: +SKIP\n",
        "plt.show() #GaussianNB"
      ],
      "execution_count": 12,
      "outputs": [
        {
          "output_type": "display_data",
          "data": {
            "image/png": "[encoded data removed]",
            "text/plain": [
              "<Figure size 432x288 with 1 Axes>"
            ]
          },
          "metadata": {
            "tags": [],
            "needs_background": "light"
          }
        }
      ]
    },
    {
      "cell_type": "code",
      "metadata": {
        "id": "Q9m-6kV_RiBK"
      },
      "source": [
        "# -----------------------------------------------SAVE SAMPLE-----------------------------------------------\n",
        "X_train = df.drop('accepted', axis=1)\n",
        "y_train = df['accepted']\n",
        "X_test = dftest\n",
        "\n",
        "gnb = GaussianNB()\n",
        "y_pred = gnb.fit(X_train, y_train).predict(X_test)\n",
        "from numpy import asarray\n",
        "from numpy import savetxt\n",
        "\n",
        "savetxt('GNB.csv', y_pred.astype(int), fmt='%i', delimiter=',')"
      ],
      "execution_count": null,
      "outputs": []
    },
    {
      "cell_type": "code",
      "metadata": {
        "id": "Cv885XaW692-"
      },
      "source": [
        "# ----------------------------------------------SVM (NOT WORKING)---------------------------------------------\n",
        "\n",
        "from sklearn import svm\n",
        "from sklearn.model_selection import train_test_split\n",
        "# df.dropna()\n",
        "X = df.drop('accepted', axis=1)\n",
        "y = df['accepted']\n",
        "# X_train, X_test, y_train, y_test = train_test_split(X, y, test_size=0.2, random_state=1)\n",
        "X_train, X_test, y_train, y_test = train_test_split(X, y, random_state=1)\n",
        "\n",
        "clf = svm.SVC()\n",
        "clf.fit(X_train, y_train)\n",
        "y_1 = clf.predict(X_test)\n",
        "\n",
        "from sklearn.metrics import f1_score\n",
        "f1_score(y_test, y_1, average='macro')\n",
        "# df.shape"
      ],
      "execution_count": null,
      "outputs": []
    },
    {
      "cell_type": "code",
      "metadata": {
        "id": "CwWruwFLpwDN"
      },
      "source": [
        "# from sklearn.ensemble import RandomForestClassifier\n",
        "# from sklearn.datasets import make_classification\n",
        "# from sklearn.metrics import f1_score\n",
        "# X, y = make_classification(n_samples=1000, n_features=4,\n",
        "# ...                            n_informative=2, n_redundant=0,\n",
        "# ...                            random_state=0, shuffle=False)\n",
        "# for i in range(1, 30):\n",
        "# clf = RandomForestClassifier(random_state=0, max_depth=25)\n",
        "# clf.fit(X_train, y_train)\n",
        "# y_1 = clf.predict(X_test)\n",
        "# print(\"max_depth = \", i, \" \", f1_score(y_test, y_1, average='macro'))\n",
        "\n",
        "# -------------------------------------------------DECISION TREES--------------------------------------------\n",
        "\n",
        "from sklearn.model_selection import train_test_split\n",
        "X = df.drop('accepted', axis=1)\n",
        "y = df['accepted']\n",
        "# X_train, X_test, y_train, y_test = train_test_split(X, y, test_size=0.2, random_state=1)\n",
        "X_train, X_test, y_train, y_test = train_test_split(X, y, random_state=1)\n",
        "\n",
        "from sklearn import tree\n",
        "clf = tree.DecisionTreeClassifier(min_samples_leaf=3)\n",
        "clf = clf.fit(X_train, y_train)\n",
        "# tree.plot_tree(clf)\n",
        "y_pred = clf.predict(X_test)"
      ],
      "execution_count": 13,
      "outputs": []
    },
    {
      "cell_type": "code",
      "metadata": {
        "id": "qO9CpXWhTuZt",
        "outputId": "9e74fe09-e1bd-4f13-9573-71edfcb8a130",
        "colab": {
          "base_uri": "https://localhost:8080/"
        }
      },
      "source": [
        "# ------------------------------------------MAKING CONFUSION MATRIX----------------------------------------\n",
        "from sklearn.metrics import confusion_matrix\n",
        "y_true = y_test\n",
        "print(confusion_matrix(y_true, y_pred))\n",
        "from sklearn.metrics import f1_score\n",
        "f1_score(y_test, y_pred, average='macro')"
      ],
      "execution_count": 14,
      "outputs": [
        {
          "output_type": "stream",
          "text": [
            "[[43929  4350]\n",
            " [ 4867  1854]]\n"
          ],
          "name": "stdout"
        },
        {
          "output_type": "execute_result",
          "data": {
            "text/plain": [
              "0.595969337154317"
            ]
          },
          "metadata": {
            "tags": []
          },
          "execution_count": 14
        }
      ]
    },
    {
      "cell_type": "code",
      "metadata": {
        "id": "auccBWOvtT4E",
        "outputId": "ca08980d-d972-482b-cacc-6bca1250c805",
        "colab": {
          "base_uri": "https://localhost:8080/",
          "height": 279
        }
      },
      "source": [
        "import matplotlib.pyplot as plt  # doctest: +SKIP\n",
        "from sklearn import datasets, metrics, model_selection;\n",
        "metrics.plot_roc_curve(clf, X_test, y_test)  # doctest: +SKIP\n",
        "plt.show() # Decision Tree"
      ],
      "execution_count": 15,
      "outputs": [
        {
          "output_type": "display_data",
          "data": {
            "image/png": "[encoded data removed]",
            "text/plain": [
              "<Figure size 432x288 with 1 Axes>"
            ]
          },
          "metadata": {
            "tags": [],
            "needs_background": "light"
          }
        }
      ]
    },
    {
      "cell_type": "code",
      "metadata": {
        "id": "a-m9ZIUl_RnJ"
      },
      "source": [
        "# -------------------------------------------DECISION TREE SAVE SAMPLE---------------------------------------\n",
        "\n",
        "X_train = df.drop('accepted', axis=1)\n",
        "y_train = df['accepted']\n",
        "X_test = dftest\n",
        "# clf = RandomForestClassifier(random_state=0, max_depth=15, max_features=\"log2\")\n",
        "from sklearn import tree\n",
        "clf = tree.DecisionTreeClassifier()\n",
        "clf = clf.fit(X_train, y_train)\n",
        "# clf.fit(X_train, y_train)\n",
        "y_1 = clf.predict(X_test)\n",
        "# from sklearn.metrics import f1_score\n",
        "# f1_score(y_test, y_1, average='macro')\n",
        "\n",
        "from numpy import asarray\n",
        "from numpy import savetxt\n",
        "\n",
        "savetxt('DTcheck22.csv', y_1.astype(int), fmt='%i', delimiter=',')"
      ],
      "execution_count": null,
      "outputs": []
    },
    {
      "cell_type": "code",
      "metadata": {
        "id": "sk5UM-Ao6AfW"
      },
      "source": [
        ""
      ],
      "execution_count": null,
      "outputs": []
    }
  ]
}